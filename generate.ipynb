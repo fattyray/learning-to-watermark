{
 "cells": [
  {
   "cell_type": "code",
   "execution_count": null,
   "metadata": {},
   "outputs": [],
   "source": []
  },
  {
   "cell_type": "code",
   "execution_count": null,
   "metadata": {},
   "outputs": [],
   "source": []
  },
  {
   "cell_type": "code",
   "execution_count": 1,
   "metadata": {
    "metadata": {}
   },
   "outputs": [],
   "source": [
    "gamma=0.25\n",
    "delta=3"
   ]
  },
  {
   "cell_type": "code",
   "execution_count": 2,
   "metadata": {
    "metadata": {}
   },
   "outputs": [
    {
     "data": {
      "application/vnd.jupyter.widget-view+json": {
       "model_id": "d8ae099660dd4bd8be627f48c66df1e7",
       "version_major": 2,
       "version_minor": 0
      },
      "text/plain": [
       "Loading checkpoint shards:   0%|          | 0/2 [00:00<?, ?it/s]"
      ]
     },
     "metadata": {},
     "output_type": "display_data"
    },
    {
     "name": "stderr",
     "output_type": "stream",
     "text": [
      "/data3/wcr/LTW/watermark.py:49: FutureWarning: You are using `torch.load` with `weights_only=False` (the current default value), which uses the default pickle module implicitly. It is possible to construct malicious pickle data which will execute arbitrary code during unpickling (See https://github.com/pytorch/pytorch/blob/main/SECURITY.md#untrusted-models for more details). In a future release, the default value for `weights_only` will be flipped to `True`. This limits the functions that could be executed during unpickling. Arbitrary objects will no longer be allowed to be loaded via this mode unless they are explicitly allowlisted by the user via `torch.serialization.add_safe_globals`. We recommend you start setting `weights_only=True` for any use case where you don't have full control of the loaded file. Please open an issue on GitHub for any issues related to this experimental feature.\n",
      "  self.selector_network.load_state_dict(torch.load(checkpoint_path))\n"
     ]
    },
    {
     "name": "stdout",
     "output_type": "stream",
     "text": [
      "['  Now it’s seen by many as inevitable.\\nThe fact of the matter is, in my opinion, that in every aspect of technology, but particularly IT, you need to keep an open mind. The fact that over 100 years of my IT experience with my employer I never had a need for an always on, always connected, always connected phone system, I feel like that idea came from just being in the room with the technologists that produced the idea. It was seen as just something that I hadn’t need nor ever seen, like saying a fax machine would not be necessary in twenty years.\\nFor sure, but I’m certainly a little hesitant about mobile.  I know I will need a phone, but the idea of keeping it with me at all times, just boggles my mind.\\nI feel like I know more of the limitations of mobile technology than I do with desktop technology. I couldn’t, in good faith, argue that mobile technology is worse than the desktop, but I feel like mobile is in a much better place as far as limitations than the']\n"
     ]
    }
   ],
   "source": [
    "from watermark import Watermark\n",
    "import torch\n",
    "from transformers import AutoTokenizer\n",
    "from watermark import Detector\n",
    "from transformers import AutoTokenizer,AutoModelForCausalLM\n",
    "import torch\n",
    "\n",
    "\n",
    "torch.cuda.set_device(4)\n",
    "device = torch.device('cuda' if torch.cuda.is_available() else 'cpu')\n",
    "tokenizer=AutoTokenizer.from_pretrained(\"/data3/wcr/my_project/models/opt-6.7b\")\n",
    "\n",
    "# if llama\n",
    "tokenizer.pad_token = tokenizer.eos_token\n",
    "\n",
    "\n",
    "model= AutoModelForCausalLM.from_pretrained(\"/data3/wcr/my_project/models/opt-6.7b\",torch_dtype=torch.float16).to(device)\n",
    "\n",
    "\n",
    "# input_text=\"What is your favorite programming language?\"\n",
    "# input_text=\"The Linux kernel now includes everything that is needed to use 3D acceleration with all GeForce graphics chips. Drivers have also been added for a Wireless Gigabit chip and a PCIe WLAN chip from Realtek.\"\n",
    "input_text=\"It’s amazing what a difference time can make in the way we perceive certain technologies. A few years ago, the idea of the cloud was terrifying to many people.(give a answer about 200 words) \"\n",
    "wm = Watermark(checkpoint_path=\"/data3/wcr/LTW/ckpt/tmp/selective_network_epoch0_step2000.pth\",device=device,k=6,model=model,tokenizer=tokenizer,min_new_tokens=175, max_new_tokens= 225,embed_unigram_wm=True)\n",
    "\n",
    "output=wm.generate_watermark(input_text,gamma,delta)\n",
    "# output=wm.generate_unwatermark(input_text)\n",
    "print(output)\n",
    "output=input_text+output[0]"
   ]
  },
  {
   "cell_type": "code",
   "execution_count": 3,
   "metadata": {
    "metadata": {}
   },
   "outputs": [
    {
     "name": "stderr",
     "output_type": "stream",
     "text": [
      "/data3/wcr/LTW/utils/detect_utils.py:106: FutureWarning: You are using `torch.load` with `weights_only=False` (the current default value), which uses the default pickle module implicitly. It is possible to construct malicious pickle data which will execute arbitrary code during unpickling (See https://github.com/pytorch/pytorch/blob/main/SECURITY.md#untrusted-models for more details). In a future release, the default value for `weights_only` will be flipped to `True`. This limits the functions that could be executed during unpickling. Arbitrary objects will no longer be allowed to be loaded via this mode unless they are explicitly allowlisted by the user via `torch.serialization.add_safe_globals`. We recommend you start setting `weights_only=True` for any use case where you don't have full control of the loaded file. Please open an issue on GitHub for any issues related to this experimental feature.\n",
      "  self.selector_network.load_state_dict(torch.load(checkpoint_path))\n"
     ]
    }
   ],
   "source": [
    "\n",
    "\n",
    "\n",
    "\n",
    "\n",
    "watermark_detector = Detector(vocab=list(tokenizer.get_vocab().values()),\n",
    "                                        gamma=gamma,\n",
    "                                        tokenizer=tokenizer,\n",
    "                                        z_threshold=4,\n",
    "                                        model=model,\n",
    "                                        k=6,\n",
    "                                        checkpoint_path=\"/data3/wcr/LTW/ckpt/tmp/selective_network_epoch0_step2000.pth\",\n",
    "                                        embed_unigram_wm=True\n",
    "                                              \n",
    "                                        )\n",
    "\n",
    "# tokenized_input=tokenizer.encode(input_text,  return_tensors='pt').to(device)\n",
    "# tokenized_output=tokenizer.encode(output[0], return_tensors='pt').to(device)"
   ]
  },
  {
   "cell_type": "code",
   "execution_count": null,
   "metadata": {},
   "outputs": [],
   "source": []
  },
  {
   "cell_type": "code",
   "execution_count": 4,
   "metadata": {
    "metadata": {}
   },
   "outputs": [
    {
     "data": {
      "text/plain": [
       "{'num_tokens_generated': 226,\n",
       " 'num_tokens_scored': 120,\n",
       " 'num_green_tokens': 108,\n",
       " 'watermarking_fraction': 0.5309734513274337,\n",
       " 'green_fraction': 0.9,\n",
       " 'z_score': 16.443843832875572,\n",
       " 'p_value': np.float64(4.6419583101762646e-61),\n",
       " 'prediction': True,\n",
       " 'confidence': np.float64(1.0)}"
      ]
     },
     "execution_count": 4,
     "metadata": {},
     "output_type": "execute_result"
    }
   ],
   "source": [
    "\n",
    "tokenized_input=tokenizer.encode(input_text,  return_tensors='pt',add_special_tokens=False).to(device)\n",
    "tokenized_output=tokenizer.encode(output, return_tensors='pt').to(device)\n",
    "tokenized_output=tokenized_output[0]\n",
    "tokenized_input=tokenized_input[0]\n",
    "detection_result=watermark_detector.detect(tokenized_output,tokenized_input)\n",
    "detection_result"
   ]
  },
  {
   "cell_type": "code",
   "execution_count": 5,
   "metadata": {
    "metadata": {}
   },
   "outputs": [
    {
     "name": "stdout",
     "output_type": "stream",
     "text": [
      "[\" Today cloud computing is the most popular form of computing, yet it is somehow not viewed as a complete abstraction of the underlying hardware.\\nI don't see it as a complete abstraction, because then why not just have a big computer and access all the hardware directly? With the cloud, I have to rent a server to store my data on and there are huge, huge costs involved.\\nYou make a good point that the cloud isn’t completely ideal. However, there are ways to access that large amount of processing power without having to rent a server, which are getting easier to get into, thanks to cloud computing. As I understand it, there are also ways to minimize the cost of renting a server.  But, since it’s your money, there’s no need for me to explain the process further.  Thanks for your response!</s>\"]\n"
     ]
    },
    {
     "data": {
      "text/plain": [
       "{'num_tokens_generated': 177,\n",
       " 'num_tokens_scored': 83,\n",
       " 'num_green_tokens': 16,\n",
       " 'watermarking_fraction': 0.4689265536723164,\n",
       " 'green_fraction': 0.1927710843373494,\n",
       " 'z_score': -1.2040760759965081,\n",
       " 'p_value': np.float64(0.8857199120940613),\n",
       " 'prediction': False}"
      ]
     },
     "execution_count": 5,
     "metadata": {},
     "output_type": "execute_result"
    }
   ],
   "source": [
    "output=wm.generate_unwatermark(input_text)\n",
    "print(output)\n",
    "output=input_text+output[0]\n",
    "tokenized_input=tokenizer.encode(input_text,  return_tensors='pt',add_special_tokens=False).to(device)\n",
    "tokenized_output=tokenizer.encode(output, return_tensors='pt').to(device)\n",
    "tokenized_output=tokenized_output[0]\n",
    "tokenized_input=tokenized_input[0]\n",
    "detection_result=watermark_detector.detect(tokenized_output,tokenized_input)\n",
    "detection_result"
   ]
  }
 ],
 "metadata": {
  "kernelspec": {
   "display_name": "markllm_env",
   "language": "python",
   "name": "python3"
  },
  "language_info": {
   "codemirror_mode": {
    "name": "ipython",
    "version": 3
   },
   "file_extension": ".py",
   "mimetype": "text/x-python",
   "name": "python",
   "nbconvert_exporter": "python",
   "pygments_lexer": "ipython3",
   "version": "3.9.20"
  }
 },
 "nbformat": 4,
 "nbformat_minor": 2
}
